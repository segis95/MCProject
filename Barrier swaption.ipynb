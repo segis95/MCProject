{
 "cells": [
  {
   "cell_type": "code",
   "execution_count": 240,
   "metadata": {},
   "outputs": [],
   "source": [
    "import numpy as np\n",
    "import matplotlib.pyplot as plt\n",
    "from tqdm import tqdm\n",
    "from scipy.optimize import minimize"
   ]
  },
  {
   "cell_type": "markdown",
   "metadata": {},
   "source": [
    "### Utils"
   ]
  },
  {
   "cell_type": "code",
   "execution_count": 2,
   "metadata": {},
   "outputs": [],
   "source": [
    "def correlation_matrix(beta,tenors=[]):\n",
    "    # creat correlation matrix rho\n",
    "    N = len(tenors)\n",
    "    tenors_col = np.repeat(np.array(tenors).reshape(-1,1),N,axis=1)\n",
    "    tenors_row = np.repeat(np.array(tenors).reshape(1,-1),N,axis=0)\n",
    "    return np.exp(-beta*np.abs(tenors_col-tenors_row))"
   ]
  },
  {
   "cell_type": "code",
   "execution_count": 3,
   "metadata": {},
   "outputs": [],
   "source": [
    "tenors = [1,2,3,4,5]\n",
    "rho = correlation_matrix(0.5,tenors)"
   ]
  },
  {
   "cell_type": "code",
   "execution_count": 4,
   "metadata": {},
   "outputs": [],
   "source": [
    "U = np.linalg.cholesky(rho)"
   ]
  },
  {
   "cell_type": "code",
   "execution_count": 406,
   "metadata": {},
   "outputs": [],
   "source": [
    "def simulation(Initial_L,delta,sigma,rho,step,T0,Rup):\n",
    "    \"\"\"\n",
    "    [ln L_tk+1^0            [ ln L_tk^0                [         ...                            [sigma_0^2  sigma_0 ...\n",
    "     ln L_tk+1^1       =      ln L_tk^1     +   diag       rho_i_j * delta * L_tk^j        *          0       sigma_1^2  sigma_1 ...\n",
    "     ...                      ...                                ...                                           ...\n",
    "     ln L_tk+1^N-1]           ln L_tk^N-1]                                          ]N*N                                         sigma_N-1^2]\n",
    "    \n",
    "    \n",
    "    \n",
    "            -          0.5h*[ sigma_0^2     +   diag [          ...            *  [U_0_0  U_0_1  ...         *  [ x_0_k\n",
    "                              sigma_1^2                  sigma_i * sqrt(h)           0    U_1_1  ...              x_1_k\n",
    "                              ...                               ...                              ...              ...\n",
    "                              simga_N-1^2 ]                                ]                     U_N-1_N-1]       x_N-1_k ]\n",
    "    \n",
    "    \n",
    "    \n",
    "    \"\"\"\n",
    "    h = step\n",
    "    M = int(T0/h)\n",
    "    N = len(Initial_L)\n",
    "    sigma = np.array(sigma)\n",
    "    result = -np.Inf*np.ones(N*M).reshape(N,M)\n",
    "    result[:,0] = np.array(np.log(Initial_L))\n",
    "    for i in range(M-1):\n",
    "        X = 2*(np.random.binomial(1,0.5,N).reshape(-1,1)-.5)\n",
    "        temp_vec = result[:,i]\n",
    "        temp_L_k = np.exp(temp_vec)\n",
    "        sigma_eye = np.eye(N)*sigma\n",
    "        sigma_triu = np.triu(np.repeat(sigma.reshape(-1,1),N,axis=1))\n",
    "        rho_l = rho * np.repeat((delta*temp_L_k/(1+delta*temp_L_k)).reshape(1,-1),N,axis=0)\n",
    "        result_temp = h* np.diag(sigma_eye.dot(rho_l.dot(sigma_triu))).reshape(1,-1) - 0.5*h*sigma**2 + np.sqrt(h)*sigma_eye.dot(U.dot(X)).reshape(1,-1)\n",
    "        \n",
    "        sigma_max = sigma.max()\n",
    "        ln_L_hat = result_temp.max() + sigma_max**2*h*N - 0.5*sigma_max**2*h + sigma_max*np.sqrt(h*N)\n",
    "        \n",
    "        if ln_L_hat < np.log(Rup):\n",
    "            # first criteria\n",
    "            result[:,i+1] = result[:,i]  + result_temp\n",
    "        else:\n",
    "            # second criteria\n",
    "            swap_rate = np.exp(result[:,i]) * (1 + (np.arange(N)+1)*sigma*sigma_max*h + sigma*np.sqrt(h*(np.flip(np.arange(N))+1)))\n",
    "            second_criteria = R_swap(swap_rate,delta)\n",
    "            if second_criteria < Rup:\n",
    "                result[:,i+1] = result[:,i]  + result_temp\n",
    "            else:\n",
    "                ln_L_pi = projection_with_constraint(np.exp(result[:,i]))\n",
    "                lam_h = np.sqrt(N)*(N*h*sigma_max**2-0.5*h*sigma_max**2+sigma_max*np.sqrt(N*h))\n",
    "                pi_norm = np.linalg.norm(ln_L_pi-result[:,i])\n",
    "                p = lam_h/(pi_norm+lam_h)\n",
    "                u = np.random.rand()\n",
    "                if u<p:\n",
    "                    print('stop')\n",
    "                    result[:,i+1] = ln_L_pi\n",
    "                    break\n",
    "                else:\n",
    "                    print('jump back')\n",
    "                    result[:,i] = result[:,i] + lam_h*(result[:,i]-ln_L_pi)/pi_norm\n",
    "                    result[:,i+1] = result[:,i] + result_temp\n",
    "    return np.exp(result)"
   ]
  },
  {
   "cell_type": "code",
   "execution_count": 149,
   "metadata": {},
   "outputs": [],
   "source": [
    "sigma = np.array(sigma)"
   ]
  },
  {
   "cell_type": "code",
   "execution_count": 151,
   "metadata": {},
   "outputs": [
    {
     "data": {
      "text/plain": [
       "array([0.01, 0.02, 0.03, 0.04, 0.05])"
      ]
     },
     "execution_count": 151,
     "metadata": {},
     "output_type": "execute_result"
    }
   ],
   "source": [
    "sigma_max = sigma.max()\n",
    "(np.arange(N)+1)*sigma*sigma_max"
   ]
  },
  {
   "cell_type": "code",
   "execution_count": 448,
   "metadata": {},
   "outputs": [
    {
     "name": "stderr",
     "output_type": "stream",
     "text": [
      "\n",
      "  0%|          | 0/100000 [00:00<?, ?it/s]\u001b[A\n",
      "  0%|          | 1/100000 [00:00<4:36:13,  6.03it/s]\u001b[A\n",
      "  0%|          | 2/100000 [00:00<4:14:20,  6.55it/s]\u001b[A\n",
      "  0%|          | 3/100000 [00:00<4:05:46,  6.78it/s]\u001b[A\n",
      "  0%|          | 4/100000 [00:00<3:58:19,  6.99it/s]\u001b[A\n",
      "  0%|          | 5/100000 [00:00<3:54:21,  7.11it/s]\u001b[A\n",
      "  0%|          | 6/100000 [00:00<3:49:35,  7.26it/s]\u001b[A\n",
      "  0%|          | 7/100000 [00:00<3:47:00,  7.34it/s]\u001b[A\n",
      "  0%|          | 8/100000 [00:01<3:45:08,  7.40it/s]\u001b[A\n",
      "  0%|          | 9/100000 [00:01<3:41:42,  7.52it/s]\u001b[A\n",
      "  0%|          | 10/100000 [00:01<3:40:17,  7.57it/s]\u001b[A"
     ]
    },
    {
     "name": "stdout",
     "output_type": "stream",
     "text": [
      "jump back\n",
      "jump back\n",
      "stop\n"
     ]
    },
    {
     "name": "stderr",
     "output_type": "stream",
     "text": [
      "\n",
      "  0%|          | 11/100000 [00:01<3:40:03,  7.57it/s]\u001b[A\n",
      "  0%|          | 12/100000 [00:01<3:38:57,  7.61it/s]\u001b[A\n",
      "  0%|          | 13/100000 [00:01<3:38:15,  7.64it/s]\u001b[A\n",
      "  0%|          | 14/100000 [00:01<3:35:36,  7.73it/s]\u001b[A\n",
      "  0%|          | 15/100000 [00:01<3:35:09,  7.74it/s]\u001b[A"
     ]
    },
    {
     "name": "stdout",
     "output_type": "stream",
     "text": [
      "stop\n"
     ]
    },
    {
     "name": "stderr",
     "output_type": "stream",
     "text": [
      "\n",
      "  0%|          | 16/100000 [00:02<3:35:10,  7.74it/s]\u001b[A\n",
      "  0%|          | 17/100000 [00:02<3:36:36,  7.69it/s]\u001b[A\n",
      "  0%|          | 18/100000 [00:02<3:36:33,  7.69it/s]\u001b[A\n",
      "  0%|          | 19/100000 [00:02<3:36:03,  7.71it/s]\u001b[A\n",
      "  0%|          | 20/100000 [00:02<3:39:10,  7.60it/s]\u001b[A\n",
      "  0%|          | 24/100000 [00:03<3:51:30,  7.20it/s]"
     ]
    },
    {
     "name": "stdout",
     "output_type": "stream",
     "text": [
      "stop\n"
     ]
    },
    {
     "name": "stderr",
     "output_type": "stream",
     "text": [
      "  0%|          | 26/100000 [00:03<3:51:45,  7.19it/s]"
     ]
    },
    {
     "name": "stdout",
     "output_type": "stream",
     "text": [
      "jump back\n"
     ]
    },
    {
     "name": "stderr",
     "output_type": "stream",
     "text": [
      "  0%|          | 29/100000 [00:03<3:48:45,  7.28it/s]"
     ]
    },
    {
     "name": "stdout",
     "output_type": "stream",
     "text": [
      "stop\n"
     ]
    },
    {
     "name": "stderr",
     "output_type": "stream",
     "text": [
      "  0%|          | 31/100000 [00:04<3:48:17,  7.30it/s]"
     ]
    },
    {
     "name": "stdout",
     "output_type": "stream",
     "text": [
      "stop\n"
     ]
    },
    {
     "name": "stderr",
     "output_type": "stream",
     "text": [
      "  0%|          | 40/100000 [00:05<3:40:07,  7.57it/s]"
     ]
    },
    {
     "name": "stdout",
     "output_type": "stream",
     "text": [
      "stop\n"
     ]
    },
    {
     "name": "stderr",
     "output_type": "stream",
     "text": [
      "  0%|          | 45/100000 [00:05<3:37:02,  7.68it/s]"
     ]
    },
    {
     "name": "stdout",
     "output_type": "stream",
     "text": [
      "stop\n"
     ]
    },
    {
     "name": "stderr",
     "output_type": "stream",
     "text": [
      "  0%|          | 48/100000 [00:06<3:35:30,  7.73it/s]"
     ]
    },
    {
     "name": "stdout",
     "output_type": "stream",
     "text": [
      "stop\n"
     ]
    },
    {
     "name": "stderr",
     "output_type": "stream",
     "text": [
      "  0%|          | 63/100000 [00:08<3:34:17,  7.77it/s]"
     ]
    },
    {
     "name": "stdout",
     "output_type": "stream",
     "text": [
      "stop\n"
     ]
    },
    {
     "name": "stderr",
     "output_type": "stream",
     "text": [
      "  0%|          | 66/100000 [00:08<3:34:01,  7.78it/s]"
     ]
    },
    {
     "name": "stdout",
     "output_type": "stream",
     "text": [
      "jump back\n",
      "stop\n"
     ]
    },
    {
     "name": "stderr",
     "output_type": "stream",
     "text": [
      "  0%|          | 70/100000 [00:08<3:32:47,  7.83it/s]"
     ]
    },
    {
     "name": "stdout",
     "output_type": "stream",
     "text": [
      "stop\n"
     ]
    },
    {
     "name": "stderr",
     "output_type": "stream",
     "text": [
      "  0%|          | 81/100000 [00:10<3:32:50,  7.82it/s]"
     ]
    },
    {
     "name": "stdout",
     "output_type": "stream",
     "text": [
      "stop\n"
     ]
    },
    {
     "name": "stderr",
     "output_type": "stream",
     "text": [
      "  0%|          | 86/100000 [00:11<3:33:24,  7.80it/s]"
     ]
    },
    {
     "name": "stdout",
     "output_type": "stream",
     "text": [
      "jump back\n",
      "jump back\n",
      "stop\n"
     ]
    },
    {
     "name": "stderr",
     "output_type": "stream",
     "text": [
      "  0%|          | 89/100000 [00:11<3:32:28,  7.84it/s]"
     ]
    },
    {
     "name": "stdout",
     "output_type": "stream",
     "text": [
      "stop\n"
     ]
    },
    {
     "name": "stderr",
     "output_type": "stream",
     "text": [
      "  0%|          | 105/100000 [00:13<3:32:30,  7.83it/s]"
     ]
    },
    {
     "name": "stdout",
     "output_type": "stream",
     "text": [
      "stop\n"
     ]
    },
    {
     "name": "stderr",
     "output_type": "stream",
     "text": [
      "  0%|          | 118/100000 [00:14<3:30:21,  7.91it/s]"
     ]
    },
    {
     "name": "stdout",
     "output_type": "stream",
     "text": [
      "jump back\n",
      "stop\n"
     ]
    },
    {
     "name": "stderr",
     "output_type": "stream",
     "text": [
      "  0%|          | 123/100000 [00:15<3:29:09,  7.96it/s]"
     ]
    },
    {
     "name": "stdout",
     "output_type": "stream",
     "text": [
      "stop\n",
      "stop\n"
     ]
    },
    {
     "name": "stderr",
     "output_type": "stream",
     "text": [
      "  0%|          | 127/100000 [00:16<3:30:56,  7.89it/s]"
     ]
    },
    {
     "name": "stdout",
     "output_type": "stream",
     "text": [
      "stop\n",
      "stop\n"
     ]
    },
    {
     "name": "stderr",
     "output_type": "stream",
     "text": [
      "  0%|          | 136/100000 [00:17<3:31:01,  7.89it/s]"
     ]
    },
    {
     "name": "stdout",
     "output_type": "stream",
     "text": [
      "stop\n"
     ]
    },
    {
     "name": "stderr",
     "output_type": "stream",
     "text": [
      "  0%|          | 138/100000 [00:17<3:30:55,  7.89it/s]"
     ]
    },
    {
     "name": "stdout",
     "output_type": "stream",
     "text": [
      "jump back\n",
      "stop\n"
     ]
    },
    {
     "name": "stderr",
     "output_type": "stream",
     "text": [
      "  0%|          | 141/100000 [00:17<3:30:26,  7.91it/s]"
     ]
    },
    {
     "name": "stdout",
     "output_type": "stream",
     "text": [
      "jump back\n",
      "stop\n"
     ]
    },
    {
     "name": "stderr",
     "output_type": "stream",
     "text": [
      "  0%|          | 144/100000 [00:18<3:31:26,  7.87it/s]"
     ]
    },
    {
     "name": "stdout",
     "output_type": "stream",
     "text": [
      "jump back\n",
      "stop\n"
     ]
    },
    {
     "name": "stderr",
     "output_type": "stream",
     "text": [
      "  0%|          | 149/100000 [00:19<3:32:14,  7.84it/s]"
     ]
    },
    {
     "name": "stdout",
     "output_type": "stream",
     "text": [
      "stop\n"
     ]
    },
    {
     "name": "stderr",
     "output_type": "stream",
     "text": [
      "  0%|          | 151/100000 [00:19<3:32:26,  7.83it/s]"
     ]
    },
    {
     "name": "stdout",
     "output_type": "stream",
     "text": [
      "stop\n"
     ]
    },
    {
     "name": "stderr",
     "output_type": "stream",
     "text": [
      "  0%|          | 157/100000 [00:20<3:34:12,  7.77it/s]"
     ]
    },
    {
     "name": "stdout",
     "output_type": "stream",
     "text": [
      "stop\n"
     ]
    },
    {
     "name": "stderr",
     "output_type": "stream",
     "text": [
      "  0%|          | 160/100000 [00:20<3:33:50,  7.78it/s]"
     ]
    },
    {
     "name": "stdout",
     "output_type": "stream",
     "text": [
      "jump back\n",
      "stop\n"
     ]
    },
    {
     "name": "stderr",
     "output_type": "stream",
     "text": [
      "  0%|          | 170/100000 [00:21<3:33:23,  7.80it/s]"
     ]
    },
    {
     "name": "stdout",
     "output_type": "stream",
     "text": [
      "jump back\n",
      "stop\n"
     ]
    },
    {
     "name": "stderr",
     "output_type": "stream",
     "text": [
      "  0%|          | 193/100000 [00:25<3:39:50,  7.57it/s]"
     ]
    },
    {
     "ename": "KeyboardInterrupt",
     "evalue": "",
     "output_type": "error",
     "traceback": [
      "\u001b[0;31m---------------------------------------------------------------------------\u001b[0m",
      "\u001b[0;31mKeyboardInterrupt\u001b[0m                         Traceback (most recent call last)",
      "\u001b[0;32m<ipython-input-448-69dc87aae616>\u001b[0m in \u001b[0;36m<module>\u001b[0;34m()\u001b[0m\n\u001b[1;32m      1\u001b[0m \u001b[0;32mfor\u001b[0m \u001b[0mi\u001b[0m \u001b[0;32min\u001b[0m \u001b[0mtqdm\u001b[0m\u001b[0;34m(\u001b[0m\u001b[0mrange\u001b[0m\u001b[0;34m(\u001b[0m\u001b[0;36m100000\u001b[0m\u001b[0;34m)\u001b[0m\u001b[0;34m)\u001b[0m\u001b[0;34m:\u001b[0m\u001b[0;34m\u001b[0m\u001b[0;34m\u001b[0m\u001b[0m\n\u001b[0;32m----> 2\u001b[0;31m     \u001b[0mL\u001b[0m \u001b[0;34m=\u001b[0m \u001b[0msimulation\u001b[0m\u001b[0;34m(\u001b[0m\u001b[0mInitial_L\u001b[0m\u001b[0;34m,\u001b[0m\u001b[0mdelta\u001b[0m\u001b[0;34m=\u001b[0m\u001b[0mdelta\u001b[0m\u001b[0;34m,\u001b[0m\u001b[0msigma\u001b[0m\u001b[0;34m=\u001b[0m\u001b[0msigma\u001b[0m\u001b[0;34m,\u001b[0m\u001b[0mrho\u001b[0m\u001b[0;34m=\u001b[0m\u001b[0mrho\u001b[0m\u001b[0;34m,\u001b[0m\u001b[0mstep\u001b[0m\u001b[0;34m=\u001b[0m\u001b[0;36m0.01\u001b[0m\u001b[0;34m,\u001b[0m\u001b[0mT0\u001b[0m\u001b[0;34m=\u001b[0m\u001b[0;36m10\u001b[0m\u001b[0;34m,\u001b[0m\u001b[0mRup\u001b[0m\u001b[0;34m=\u001b[0m\u001b[0;36m0.075\u001b[0m\u001b[0;34m)\u001b[0m\u001b[0;34m\u001b[0m\u001b[0;34m\u001b[0m\u001b[0m\n\u001b[0m",
      "\u001b[0;32m<ipython-input-406-8d9c92259974>\u001b[0m in \u001b[0;36msimulation\u001b[0;34m(Initial_L, delta, sigma, rho, step, T0, Rup)\u001b[0m\n\u001b[1;32m     32\u001b[0m \u001b[0;34m\u001b[0m\u001b[0m\n\u001b[1;32m     33\u001b[0m         \u001b[0msigma_max\u001b[0m \u001b[0;34m=\u001b[0m \u001b[0msigma\u001b[0m\u001b[0;34m.\u001b[0m\u001b[0mmax\u001b[0m\u001b[0;34m(\u001b[0m\u001b[0;34m)\u001b[0m\u001b[0;34m\u001b[0m\u001b[0;34m\u001b[0m\u001b[0m\n\u001b[0;32m---> 34\u001b[0;31m         \u001b[0mln_L_hat\u001b[0m \u001b[0;34m=\u001b[0m \u001b[0mresult_temp\u001b[0m\u001b[0;34m.\u001b[0m\u001b[0mmax\u001b[0m\u001b[0;34m(\u001b[0m\u001b[0;34m)\u001b[0m \u001b[0;34m+\u001b[0m \u001b[0msigma_max\u001b[0m\u001b[0;34m**\u001b[0m\u001b[0;36m2\u001b[0m\u001b[0;34m*\u001b[0m\u001b[0mh\u001b[0m\u001b[0;34m*\u001b[0m\u001b[0mN\u001b[0m \u001b[0;34m-\u001b[0m \u001b[0;36m0.5\u001b[0m\u001b[0;34m*\u001b[0m\u001b[0msigma_max\u001b[0m\u001b[0;34m**\u001b[0m\u001b[0;36m2\u001b[0m\u001b[0;34m*\u001b[0m\u001b[0mh\u001b[0m \u001b[0;34m+\u001b[0m \u001b[0msigma_max\u001b[0m\u001b[0;34m*\u001b[0m\u001b[0mnp\u001b[0m\u001b[0;34m.\u001b[0m\u001b[0msqrt\u001b[0m\u001b[0;34m(\u001b[0m\u001b[0mh\u001b[0m\u001b[0;34m*\u001b[0m\u001b[0mN\u001b[0m\u001b[0;34m)\u001b[0m\u001b[0;34m\u001b[0m\u001b[0;34m\u001b[0m\u001b[0m\n\u001b[0m\u001b[1;32m     35\u001b[0m \u001b[0;34m\u001b[0m\u001b[0m\n\u001b[1;32m     36\u001b[0m         \u001b[0;32mif\u001b[0m \u001b[0mln_L_hat\u001b[0m \u001b[0;34m<\u001b[0m \u001b[0mnp\u001b[0m\u001b[0;34m.\u001b[0m\u001b[0mlog\u001b[0m\u001b[0;34m(\u001b[0m\u001b[0mRup\u001b[0m\u001b[0;34m)\u001b[0m\u001b[0;34m:\u001b[0m\u001b[0;34m\u001b[0m\u001b[0;34m\u001b[0m\u001b[0m\n",
      "\u001b[0;31mKeyboardInterrupt\u001b[0m: "
     ]
    }
   ],
   "source": [
    "for i in tqdm(range(100000)):\n",
    "    L = simulation(Initial_L,delta=delta,sigma=sigma,rho=rho,step=0.01,T0=10,Rup=0.075)"
   ]
  },
  {
   "cell_type": "code",
   "execution_count": 449,
   "metadata": {},
   "outputs": [],
   "source": [
    "Initial_L = [.05,.05,.05,.05,.05]\n",
    "sigma = [.1,.1,.1,.1,.1]\n",
    "rho = correlation_matrix(0.1,[10,11,12,13,14])\n",
    "delta=1\n",
    "L = simulation(Initial_L,delta=delta,sigma=sigma,rho=rho,step=0.01,T0=10,Rup=0.075)"
   ]
  },
  {
   "cell_type": "code",
   "execution_count": 450,
   "metadata": {},
   "outputs": [
    {
     "data": {
      "text/plain": [
       "[<matplotlib.lines.Line2D at 0x101e97aa90>]"
      ]
     },
     "execution_count": 450,
     "metadata": {},
     "output_type": "execute_result"
    },
    {
     "data": {
      "image/png": "[encoded data removed]",
      "text/plain": [
       "<matplotlib.figure.Figure at 0x101e79fd30>"
      ]
     },
     "metadata": {},
     "output_type": "display_data"
    }
   ],
   "source": [
    "plt.plot(L[0])\n",
    "plt.plot(L[1])\n",
    "plt.plot(L[2])\n",
    "plt.plot(L[3])\n",
    "plt.plot(L[4])"
   ]
  },
  {
   "cell_type": "code",
   "execution_count": 124,
   "metadata": {},
   "outputs": [
    {
     "name": "stdout",
     "output_type": "stream",
     "text": [
      "0.0\n",
      "0.0\n",
      "1.3877787807814457e-17\n"
     ]
    },
    {
     "data": {
      "text/plain": [
       "array([[0.5, 0. , 0. , 0. , 0. ],\n",
       "       [0. , 0.4, 0. , 0. , 0. ],\n",
       "       [0. , 0. , 0.3, 0. , 0. ],\n",
       "       [0. , 0. , 0. , 0.2, 0. ],\n",
       "       [0. , 0. , 0. , 0. , 0.1]])"
      ]
     },
     "execution_count": 124,
     "metadata": {},
     "output_type": "execute_result"
    }
   ],
   "source": [
    "rho = correlation_matrix(0.1,[1,2,3,4,5])\n",
    "\n",
    "N = 5\n",
    "delta = 1\n",
    "\n",
    "sigma = np.array([.5,.4,.3,.2,.1])\n",
    "temp_vec = np.log(np.ones(N)*0.4)\n",
    "\n",
    "temp_L_k = np.exp(temp_vec)\n",
    "\n",
    "sigma_eye = np.eye(N)*sigma\n",
    "\n",
    "sigma_eye\n",
    "\n",
    "sigma_triu = np.triu(np.repeat(sigma.reshape(-1,1),N,axis=1))\n",
    "\n",
    "sigma_triu\n",
    "\n",
    "rho_l = rho * np.repeat((delta*temp_L_k/(1+delta*temp_L_k)).reshape(1,-1),N,axis=0)\n",
    "\n",
    "rho_l[2,4]-rho[2,4]*delta*temp_L_k[4]/(1+temp_L_k[4])\n",
    "\n",
    "#Verification matrix version\n",
    "m=sigma_eye.dot(rho_l.dot(sigma_triu))\n",
    "m=np.diag(m)\n",
    "m0=sigma[0]**2*rho[0,0]*delta*temp_L_k[0]/(1+temp_L_k[0])\n",
    "m1=sigma[1]*(sigma[0]*rho[1,0]*delta*temp_L_k[0]/(1+temp_L_k[0])+sigma[1]*rho[1,1]*delta*temp_L_k[1]/(1+temp_L_k[1]))\n",
    "m2=sigma[2]*(sigma[0]*rho[2,0]*delta*temp_L_k[0]/(1+temp_L_k[0])+sigma[1]*rho[2,1]*delta*temp_L_k[1]/(1+temp_L_k[1])+sigma[2]*rho[2,2]*delta*temp_L_k[2]/(1+temp_L_k[2]))\n",
    "print(m[0]-m0)\n",
    "print(m[1]-m1)\n",
    "print(m[2]-m2)\n",
    "\n",
    "U = np.linalg.cholesky(rho).T\n",
    "X = 2*(np.random.binomial(1,0.5,N).reshape(-1,1)-.5)\n",
    "\n",
    "sigma_eye.dot(U.dot(X))\n",
    "\n",
    "sigma_eye"
   ]
  },
  {
   "cell_type": "code",
   "execution_count": 156,
   "metadata": {},
   "outputs": [],
   "source": [
    "def R_swap(Libor,delta=1):\n",
    "    Libor_cumProd = (1 + delta*Libor).cumprod()\n",
    "    return ( 1 - 1/Libor_cumProd[-1] )/( delta * (1/Libor_cumProd).sum() )"
   ]
  },
  {
   "cell_type": "code",
   "execution_count": 109,
   "metadata": {},
   "outputs": [
    {
     "data": {
      "text/plain": [
       "0.04989150787269894"
      ]
     },
     "execution_count": 109,
     "metadata": {},
     "output_type": "execute_result"
    }
   ],
   "source": [
    "delta = 1\n",
    "Libor = L[:,1]\n",
    "Rswap = R_swap(Libor,delta)\n",
    "Rswap"
   ]
  },
  {
   "cell_type": "code",
   "execution_count": 315,
   "metadata": {},
   "outputs": [],
   "source": [
    "def func(x,log_Libor=log_libor):\n",
    "    return ((x-log_Libor)**2).sum()"
   ]
  },
  {
   "cell_type": "code",
   "execution_count": 316,
   "metadata": {},
   "outputs": [],
   "source": [
    "def constraint(x,Rup=0.075):\n",
    "    libor = np.exp(x)\n",
    "    return R_swap(libor)-Rup"
   ]
  },
  {
   "cell_type": "code",
   "execution_count": 317,
   "metadata": {},
   "outputs": [],
   "source": [
    "def projection_with_constraint(Libor):\n",
    "    log_libor = np.log(Libor)\n",
    "    bnds = [(-np.Inf,0)]*len(log_libor)\n",
    "    bnds = tuple(bnds)\n",
    "    x = minimize(func, np.zeros(len(log_libor)), args=(log_libor), constraints={'type':'eq','fun':constraint},bounds=bnds)\n",
    "    return x.x"
   ]
  },
  {
   "cell_type": "code",
   "execution_count": 352,
   "metadata": {},
   "outputs": [],
   "source": [
    "def log_libor_0(Libor,Rup=0.075,delta=1):\n",
    "    Libor_cumprod_inverse = np.flip((1+delta*Libor)).cumprod()\n",
    "    L0 = (Rup*(1+Libor_cumprod_inverse.sum())+1)/Libor_cumprod_inverse[-1] - 1/delta\n",
    "    print(L0)\n",
    "    return np.log(L0)"
   ]
  },
  {
   "cell_type": "code",
   "execution_count": 319,
   "metadata": {},
   "outputs": [],
   "source": [
    "def func_noconstraint(x,log_Libor=log_libor,Rup=0.075,delta=1):\n",
    "    x_ = np.zeros(len(x)+1)\n",
    "    x_[1:] = x\n",
    "    x = np.exp(x)\n",
    "    x_[0] = log_libor_0(x,Rup=Rup,delta=delta)\n",
    "    return ((x_-log_libor)**2).sum()"
   ]
  },
  {
   "cell_type": "code",
   "execution_count": 353,
   "metadata": {},
   "outputs": [],
   "source": [
    "def projection_without_constraint(Libor,Rup=0.075,delta=1):\n",
    "    log_libor = np.log(Libor)\n",
    "    bnds = [(-np.Inf,0)]*(len(log_libor)-1)\n",
    "    bnds = tuple(bnds)\n",
    "    x = minimize(func_noconstraint,np.zeros(len(log_libor)-1), args=(log_libor,Rup,delta),bounds=bnds)\n",
    "#     result = np.zeros(len(x.x)+1)\n",
    "#     result[1:] = x.x\n",
    "#     result[0] = log_libor_0(np.exp(x.x),Rup=Rup,delta=delta)\n",
    "    return x.x"
   ]
  },
  {
   "cell_type": "code",
   "execution_count": 451,
   "metadata": {},
   "outputs": [
    {
     "data": {
      "text/plain": [
       "array([0.07183268, 0.05901033, 0.05740713, 0.05567199, 0.05640056])"
      ]
     },
     "execution_count": 451,
     "metadata": {},
     "output_type": "execute_result"
    }
   ],
   "source": [
    "Libor"
   ]
  },
  {
   "cell_type": "code",
   "execution_count": 452,
   "metadata": {},
   "outputs": [],
   "source": [
    "pi_1 = projection_with_constraint(Libor)"
   ]
  },
  {
   "cell_type": "code",
   "execution_count": 455,
   "metadata": {},
   "outputs": [
    {
     "data": {
      "text/plain": [
       "array([0.09640058, 0.07292997, 0.06930854, 0.06579554, 0.06589871])"
      ]
     },
     "execution_count": 455,
     "metadata": {},
     "output_type": "execute_result"
    }
   ],
   "source": [
    "np.exp(pi_1)"
   ]
  },
  {
   "cell_type": "code",
   "execution_count": 456,
   "metadata": {},
   "outputs": [
    {
     "data": {
      "text/plain": [
       "0.07500001081262947"
      ]
     },
     "execution_count": 456,
     "metadata": {},
     "output_type": "execute_result"
    }
   ],
   "source": [
    "R_swap(np.exp(pi_1))"
   ]
  },
  {
   "cell_type": "code",
   "execution_count": 360,
   "metadata": {},
   "outputs": [
    {
     "data": {
      "text/plain": [
       "0.46799946646969576"
      ]
     },
     "execution_count": 360,
     "metadata": {},
     "output_type": "execute_result"
    }
   ],
   "source": [
    "np.sqrt(((pi_1-np.log(Libor))**2).sum())"
   ]
  },
  {
   "cell_type": "code",
   "execution_count": 361,
   "metadata": {},
   "outputs": [
    {
     "data": {
      "text/plain": [
       "0.46799946646969576"
      ]
     },
     "execution_count": 361,
     "metadata": {},
     "output_type": "execute_result"
    }
   ],
   "source": [
    "np.linalg.norm(pi_1-np.log(Libor))"
   ]
  },
  {
   "cell_type": "code",
   "execution_count": 366,
   "metadata": {},
   "outputs": [
    {
     "data": {
      "text/plain": [
       "0.49586689887624336"
      ]
     },
     "execution_count": 366,
     "metadata": {},
     "output_type": "execute_result"
    }
   ],
   "source": [
    "np.random.rand()"
   ]
  },
  {
   "cell_type": "code",
   "execution_count": null,
   "metadata": {},
   "outputs": [],
   "source": []
  }
 ],
 "metadata": {
  "kernelspec": {
   "display_name": "Python 3",
   "language": "python",
   "name": "python3"
  },
  "language_info": {
   "codemirror_mode": {
    "name": "ipython",
    "version": 3
   },
   "file_extension": ".py",
   "mimetype": "text/x-python",
   "name": "python",
   "nbconvert_exporter": "python",
   "pygments_lexer": "ipython3",
   "version": "3.6.7"
  }
 },
 "nbformat": 4,
 "nbformat_minor": 2
}
